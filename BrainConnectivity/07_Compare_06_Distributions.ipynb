{
 "cells": [
  {
   "cell_type": "markdown",
   "id": "7f097a4e",
   "metadata": {},
   "source": [
    "# Compare 06 Distributions\n",
    "\n",
    "#### Given multiple (two) sets of results generated from 06_Per_Node_Permutation.ipynb, acquire stat values\n",
    "\n",
    "- Input: results_perm.csv path x2 (str)\n",
    "- Out: Comparison figure, stat scores\n"
   ]
  },
  {
   "cell_type": "code",
   "execution_count": null,
   "id": "ba072e96",
   "metadata": {},
   "outputs": [],
   "source": [
    "import pandas as pd\n",
    "import numpy as np\n",
    "import matplotlib.pyplot as plt\n",
    "import seaborn as sns\n",
    "\n",
    "from scipy import stats"
   ]
  },
  {
   "cell_type": "code",
   "execution_count": null,
   "id": "adfacac9",
   "metadata": {},
   "outputs": [],
   "source": [
    "RESULTS_PERM_A = \"C:/Users/Konnor/Documents/Local/Files/Academic/Research/2025-06-01 Node Permutation Tests/3 LinearSVC Kernel, l2 hinge loss/results_perm.csv\"\n",
    "RESULTS_PERM_B = \"C:/Users/Konnor/Documents/Local/Files/Academic/Research/2025-06-01 Node Permutation Tests/8 Null Model/results_perm.csv\"\n",
    "\n",
    "# Scores are obtained either from fcn on *grid.csv, or from 06_Per_Node\n",
    "PERM_A__AD_HC__Score = 0.62\n",
    "PERM_A__TBI_Score = 0.51\n",
    "PERM_A__TRANSFER_Score = 0.58\n",
    "\n",
    "PERM_B__AD_HC__Score = 0.46\n",
    "PERM_B__TBI_Score = 0.5\n",
    "PERM_B__TRANSFER_Score = 0.50"
   ]
  },
  {
   "cell_type": "code",
   "execution_count": null,
   "id": "3528d7c3",
   "metadata": {},
   "outputs": [],
   "source": [
    "perm_a_df = pd.read_csv(RESULTS_PERM_A)\n",
    "perm_b_df = pd.read_csv(RESULTS_PERM_B)\n",
    "perm_a_df.sample(1)"
   ]
  },
  {
   "cell_type": "code",
   "execution_count": null,
   "id": "0d28d7e1",
   "metadata": {},
   "outputs": [],
   "source": [
    "# First Row: PERM_A (True Model)\n",
    "# Second Row: PERM_B (Null Model)\n",
    "# Columns: AD/HC Score, TBI Score, Transfer Score\n",
    "BIN_N = 15\n",
    "LABEL_FONT = {'family': 'serif',\n",
    "        'weight': 'normal',\n",
    "        'size': 16,\n",
    "        }\n",
    "plt.rc('font', **LABEL_FONT)\n",
    "\n",
    "fig, axes = plt.subplots(2, 3, figsize=(18, 8), sharex='all', sharey='all', squeeze=True, layout='constrained')\n",
    "fig.suptitle('True and Null Model Comparison of Node Permutation Test')\n",
    "fig.supylabel('Permutation Test Frequency (n)')\n",
    "fig.supxlabel('Classification Score')\n",
    "\n",
    "axes[0][0].hist(perm_a_df[\"AD Score\"], bins=BIN_N, color='skyblue', edgecolor='black', linewidth=0.5)\n",
    "axes[0][0].axvline(PERM_A__AD_HC__Score, color='red', linestyle='--', label=f\"{PERM_A__AD_HC__Score:.2f}\")\n",
    "axes[0][0].set_xlim(0,1)\n",
    "axes[0][0].set_ylabel('TRUE MODEL')\n",
    "axes[0][0].set_title('AD/HC')\n",
    "axes[0][0].grid(True)\n",
    "\n",
    "axes[0][1].hist(perm_a_df[\"TBI Score\"], bins=BIN_N, color='lightgreen', edgecolor='black', linewidth=0.5)\n",
    "axes[0][1].axvline(PERM_A__TBI_Score, color='red', linestyle='--', label=f\"{PERM_A__TBI_Score:.2f}\")\n",
    "axes[0][1].set_title('TBI+/TBI-')\n",
    "axes[0][1].grid(True)\n",
    "\n",
    "axes[0][2].hist(perm_a_df[\"Transfer Score\"], bins=BIN_N, color='purple', edgecolor='black', linewidth=0.5)\n",
    "axes[0][2].axvline(PERM_A__TRANSFER_Score, color='red', linestyle='--', label=f\"{PERM_A__TRANSFER_Score:.2f}\")\n",
    "axes[0][2].set_title('Transfer TBI+/TBI-')\n",
    "axes[0][2].grid(True)\n",
    "\n",
    "axes[1][0].hist(perm_b_df[\"AD Score\"], bins=BIN_N, color='skyblue', edgecolor='black', linewidth=0.5)\n",
    "axes[1][0].axvline(PERM_B__AD_HC__Score, color='red', linestyle='--', label=f\"{PERM_B__AD_HC__Score:.2f}\")\n",
    "axes[1][0].set_ylabel('NULL MODEL')\n",
    "axes[1][0].grid(True)\n",
    "\n",
    "axes[1][1].hist(perm_b_df[\"TBI Score\"], bins=BIN_N, color='lightgreen', edgecolor='black', linewidth=0.5)\n",
    "axes[1][1].axvline(PERM_B__TBI_Score, color='red', linestyle='--', label=f\"{PERM_B__TBI_Score:.2f}\")\n",
    "axes[1][1].grid(True)\n",
    "\n",
    "axes[1][2].hist(perm_b_df[\"Transfer Score\"], bins=BIN_N, color='purple', edgecolor='black', linewidth=0.5)\n",
    "axes[1][2].axvline(PERM_B__TRANSFER_Score, color='red', linestyle='--', label=f\"{PERM_B__TRANSFER_Score:.2f}\")\n",
    "axes[1][2].grid(True)\n",
    "\n",
    "for ax in axes.flat:\n",
    "    ax.legend(loc=\"upper right\")"
   ]
  },
  {
   "cell_type": "code",
   "execution_count": null,
   "id": "539b970b",
   "metadata": {},
   "outputs": [],
   "source": [
    "perm_a_long = pd.melt(perm_a_df, value_vars=[\"AD Score\", \"TBI Score\", \"Transfer Score\"],\n",
    "                     var_name=\"Case\", value_name=\"Classification Score\")\n",
    "perm_a_long[\"Model\"] = \"TRUE MODEL\"\n",
    "\n",
    "perm_b_long = pd.melt(perm_b_df, value_vars=[\"AD Score\", \"TBI Score\", \"Transfer Score\"],\n",
    "                     var_name=\"Case\", value_name=\"Classification Score\")\n",
    "perm_b_long[\"Model\"] = \"NULL MODEL\"\n",
    "long_data = pd.concat([perm_a_long, perm_b_long])\n",
    "sampled_data = long_data.groupby(['Case', 'Model']).apply(lambda x: x.sample(75, random_state=42)).reset_index(drop=True)\n",
    "\n",
    "optimal_data = [\n",
    "    [\"AD Score\", \"TRUE MODEL\", 0.62],\n",
    "    [\"AD Score\", \"NULL MODEL\", 0.46],\n",
    "    [\"TBI Score\", \"TRUE MODEL\", 0.51],\n",
    "    [\"TBI Score\", \"NULL MODEL\", 0.50],\n",
    "    [\"Transfer Score\", \"TRUE MODEL\", 0.58],\n",
    "    [\"Transfer Score\", \"NULL MODEL\", 0.50],\n",
    "]\n",
    "\n",
    "plt.figure(figsize=(10, 5), layout='constrained')\n",
    "sns.boxplot(x=\"Case\", y=\"Classification Score\", hue=\"Model\", data=long_data, showfliers=False)\n",
    "sns.swarmplot(x=\"Case\", y=\"Classification Score\", hue=\"Model\", data=sampled_data, dodge=True,\n",
    "              palette=\"Set2\", alpha=1, size=3, legend=False)\n",
    "sns.swarmplot(x=\"Case\", y=\"Classification Score\", hue=\"Model\", data=pd.DataFrame(optimal_data, columns=[\"Case\", \"Model\", \"Classification Score\"]), dodge=True,\n",
    "              palette=\"Set2\", alpha=1, edgecolor=\"red\", linewidth=1, size=5, legend=False)\n",
    "\n",
    "plt.title('Comparison of Node Permutation Test Scores')\n",
    "plt.xlabel('Score Type')\n",
    "plt.ylabel('Score')\n",
    "plt.legend(title=\"Model\", loc=\"upper right\")\n",
    "plt.tight_layout()\n",
    "plt.ylim(0, 1)\n",
    "plt.grid('minor')\n",
    "\n",
    "plt.show()"
   ]
  },
  {
   "cell_type": "markdown",
   "id": "109d2236",
   "metadata": {},
   "source": [
    "#### Statistical Comparisons\n"
   ]
  },
  {
   "cell_type": "code",
   "execution_count": null,
   "id": "277ae3cc",
   "metadata": {},
   "outputs": [],
   "source": [
    "stats.probplot(perm_a_df[\"AD Score\"], dist=\"norm\", plot=plt)\n",
    "plt.title('QQ Plot PERM A')\n",
    "plt.show()"
   ]
  },
  {
   "cell_type": "code",
   "execution_count": null,
   "id": "b986f245",
   "metadata": {},
   "outputs": [],
   "source": [
    "stats.probplot(perm_b_df[\"AD Score\"], dist=\"norm\", plot=plt)\n",
    "plt.title('QQ Plot PERM B')\n",
    "plt.show()"
   ]
  },
  {
   "cell_type": "code",
   "execution_count": null,
   "id": "67486f25",
   "metadata": {},
   "outputs": [],
   "source": [
    "TEST_AD_TRUE = stats.ttest_ind(perm_a_df[\"AD Score\"], perm_b_df[\"AD Score\"], equal_var=False)\n",
    "TEST_TBI = stats.ttest_ind(perm_a_df[\"TBI Score\"], perm_b_df[\"TBI Score\"], equal_var=False)\n",
    "TEST_TRANSFER = stats.ttest_ind(perm_a_df[\"Transfer Score\"], perm_b_df[\"Transfer Score\"], equal_var=False)\n",
    "\n",
    "results = {\n",
    "    \"Test\": [\"AD Score\", \"TBI Score\", \"Transfer Score\"],\n",
    "    \"Statistic\": [TEST_AD.statistic, TEST_TBI.statistic, TEST_TRANSFER.statistic],\n",
    "    \"p-value\": [TEST_AD.pvalue, TEST_TBI.pvalue, TEST_TRANSFER.pvalue]}\n",
    "\n",
    "df = pd.DataFrame(results)\n",
    "print(df.to_markdown(index=False))"
   ]
  },
  {
   "cell_type": "code",
   "execution_count": null,
   "id": "141fadce",
   "metadata": {},
   "outputs": [],
   "source": [
    "TEST_AD_TRUE = stats.ttest_ind(perm_a_df[\"AD Score\"], optimal_data[0][2], alternative='less')\n",
    "TEST_AD_NULL = stats.ttest_ind(perm_a_df[\"AD Score\"], optimal_data[1][2], alternative='less')\n",
    "\n",
    "TEST_TBI_TRUE = stats.ttest_ind(perm_a_df[\"TBI Score\"], optimal_data[2][2], alternative='less')\n",
    "TEST_TBI_NULL = stats.ttest_ind(perm_a_df[\"TBI Score\"], optimal_data[3][2], alternative='less')\n",
    "\n",
    "TEST_TRANSFER_TRUE = stats.ttest_ind(perm_a_df[\"Transfer Score\"], optimal_data[4][2], alternative='less')\n",
    "TEST_TRANSFER_NULL = stats.ttest_ind(perm_a_df[\"Transfer Score\"], optimal_data[5][2], alternative='less')\n",
    "\n",
    "results = {\n",
    "    \"Test\": [\"AD True Model\", \"AD Null Model\", \"TBI True Model\", \"TBI Null Model\", \"Transfer True Model\" , \"Transfer Null Model\"],\n",
    "    \"Statistic\": [TEST_AD_TRUE.statistic, TEST_AD_NULL.statistic, TEST_TBI_TRUE.statistic, TEST_TBI_NULL.statistic, TEST_TRANSFER_TRUE.statistic, TEST_TRANSFER_NULL.statistic],\n",
    "    \"p-value\": [TEST_AD_TRUE.pvalue, TEST_AD_NULL.pvalue, TEST_TBI_TRUE.pvalue, TEST_TBI_NULL.pvalue, TEST_TRANSFER_TRUE.pvalue, TEST_TRANSFER_NULL.pvalue]}\n",
    "\n",
    "df = pd.DataFrame(results)\n",
    "print(df.to_clipboard(index=False))"
   ]
  }
 ],
 "metadata": {
  "kernelspec": {
   "display_name": ".venv",
   "language": "python",
   "name": "python3"
  },
  "language_info": {
   "codemirror_mode": {
    "name": "ipython",
    "version": 3
   },
   "file_extension": ".py",
   "mimetype": "text/x-python",
   "name": "python",
   "nbconvert_exporter": "python",
   "pygments_lexer": "ipython3",
   "version": "3.13.2"
  }
 },
 "nbformat": 4,
 "nbformat_minor": 5
}
