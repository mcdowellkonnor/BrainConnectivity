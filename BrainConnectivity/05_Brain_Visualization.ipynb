{
 "cells": [
  {
   "cell_type": "markdown",
   "id": "6f8bdb0d",
   "metadata": {},
   "source": [
    "# Brain Visualization\n",
    "\n",
    "Given the node information obtained from our various modeling schemes, and provided with the appropriate mapping information, let's visualize key nodes as mapped onto a glass brain.\n"
   ]
  },
  {
   "cell_type": "code",
   "execution_count": null,
   "id": "0852b9d6",
   "metadata": {},
   "outputs": [],
   "source": [
    "import pandas as pd\n",
    "import numpy as np\n",
    "import matplotlib.pyplot as plt\n",
    "from matplotlib.patches import Patch\n",
    "from nilearn import plotting\n",
    "\n",
    "df = pd.read_csv(\"data/top-10-nodes-analysis-3-10-25.csv\")\n",
    "static_nodes = [2, 7, 83, 86, 120, 167]\n",
    "\n",
    "top_ten_columns = [\n",
    "    \"top ten nodes MCI v. TBI\",\n",
    "    \"top ten nodes TBI v. AD\",\n",
    "    \"top ten nodes AD v. MCI\",\n",
    "    \"top ten nodes AD+mcI V. tbi\",\n",
    "]\n",
    "\n",
    "# fig, axes = plt.subplots(nrows=4, ncols=1, figsize=(10, 16), subplot_kw={'xticks': [], 'yticks': []})\n",
    "legend_elements = [\n",
    "    Patch(facecolor=\"red\", label=\"Konnor Nodes\"),\n",
    "    Patch(facecolor=\"blue\", label=\"Dr. Joseph Nodes\"),\n",
    "]\n",
    "\n",
    "for i, col in enumerate(top_ten_columns):\n",
    "    top_nodes_df = df[df[col] == True]\n",
    "    coords_top = top_nodes_df[[\"MNI-X\", \"MNI-Y\", \"MNI-Z\"]].values\n",
    "\n",
    "    static_df = df[df[\"Node\"].isin(static_nodes)]\n",
    "    coords_static = static_df[[\"MNI-X\", \"MNI-Y\", \"MNI-Z\"]].values\n",
    "\n",
    "    all_coords = list(coords_top) + list(coords_static)\n",
    "    all_values = np.append(np.ones(len(coords_top)), (-1 * np.ones(len(coords_static))))\n",
    "\n",
    "    plotting.plot_markers(\n",
    "        node_values=all_values,\n",
    "        node_coords=all_coords,\n",
    "        display_mode=\"ortho\",\n",
    "        title=col,\n",
    "        annotate=True,\n",
    "        colorbar=False,\n",
    "        node_cmap=\"bwr\",\n",
    "        alpha=0.5,\n",
    "    )\n",
    "    plt.legend(\n",
    "        handles=legend_elements,\n",
    "        loc=\"lower center\",\n",
    "        ncol=2,\n",
    "        fontsize=12,\n",
    "        bbox_to_anchor=(0, -0.2),\n",
    "    )\n",
    "    plt.tight_layout(rect=[0, 0.05, 1, 1])\n",
    "    plt.show()"
   ]
  }
 ],
 "metadata": {
  "kernelspec": {
   "display_name": ".venv",
   "language": "python",
   "name": "python3"
  },
  "language_info": {
   "codemirror_mode": {
    "name": "ipython",
    "version": 3
   },
   "file_extension": ".py",
   "mimetype": "text/x-python",
   "name": "python",
   "nbconvert_exporter": "python",
   "pygments_lexer": "ipython3",
   "version": "3.13.2"
  }
 },
 "nbformat": 4,
 "nbformat_minor": 5
}
