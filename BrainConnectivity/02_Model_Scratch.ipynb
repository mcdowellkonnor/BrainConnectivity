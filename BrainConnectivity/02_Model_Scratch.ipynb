{
 "cells": [
  {
   "cell_type": "markdown",
   "metadata": {},
   "source": [
    "# 02. Model Scratch\n",
    "\n",
    "Workspace for testing models on the fly\n"
   ]
  },
  {
   "cell_type": "markdown",
   "metadata": {},
   "source": [
    "### Import Data\n"
   ]
  },
  {
   "cell_type": "code",
   "execution_count": null,
   "metadata": {},
   "outputs": [],
   "source": [
    "import os\n",
    "import pandas as pd\n",
    "import numpy as np\n",
    "import matplotlib.pyplot as plt\n",
    "\n",
    "from sklearn.model_selection import train_test_split\n",
    "from sklearn.model_selection import LeaveOneOut\n",
    "from sklearn.model_selection import cross_val_score\n",
    "from sklearn.model_selection import GridSearchCV\n",
    "from sklearn.metrics import roc_curve\n",
    "from sklearn.metrics import confusion_matrix, ConfusionMatrixDisplay\n",
    "from sklearn.metrics import auc\n",
    "from sklearn.metrics import classification_report\n",
    "from sklearn.preprocessing import StandardScaler\n",
    "\n",
    "from sklearn import svm"
   ]
  },
  {
   "cell_type": "code",
   "execution_count": null,
   "metadata": {},
   "outputs": [],
   "source": [
    "data_df = None\n",
    "if os.path.isfile(\"data/data.pkl\"):\n",
    "    data_df = pd.read_pickle(\"data/data.pkl\")\n",
    "else:\n",
    "    print(\"Load Data\")\n",
    "data_df.head()"
   ]
  },
  {
   "cell_type": "markdown",
   "metadata": {},
   "source": [
    "### Test TBI Classification Alone\n"
   ]
  },
  {
   "cell_type": "code",
   "execution_count": null,
   "metadata": {},
   "outputs": [],
   "source": [
    "# tbi_df = data_df[data_df[\"Study\"] == \"TBI\"]\n",
    "# tbi_evc = np.vstack(tbi_df[\"EVC\"])\n",
    "# tbi_class = np.where(tbi_df[\"Diagnosis\"] == \"POS\", 1, 0)\n",
    "# print(np.shape(tbi_evc))\n",
    "# tbi_df.head()\n",
    "\n",
    "tbi_df = data_df[(data_df[\"Study\"] != \"TBI\") & (data_df[\"Harmonized\"].notna())]\n",
    "tbi_evc = np.vstack(tbi_df[\"EVC\"])\n",
    "tbi_class = np.where(tbi_df[\"Diagnosis\"] == \"AD\", 1, 0)\n",
    "print(np.shape(tbi_evc))\n",
    "tbi_df.head()"
   ]
  },
  {
   "cell_type": "code",
   "execution_count": null,
   "metadata": {},
   "outputs": [],
   "source": [
    "# X is tbi_evc and Y is tbi_class\n",
    "# clf = svm.SVC(\n",
    "#     kernel=\"sigmoid\",\n",
    "#     random_state=42,\n",
    "#     class_weight=\"balanced\",\n",
    "#     probability=True,\n",
    "#     gamma=\"scale\",\n",
    "# ) 2, 7, 83, 86, 120, 167\n",
    "\n",
    "from ipywidgets import IntProgress\n",
    "from IPython.display import display\n",
    "import time\n",
    "\n",
    "best_roc_auc = 0.00\n",
    "state = 1\n",
    "f = IntProgress(min=0, max=1000)\n",
    "\n",
    "while state < 150:\n",
    "    clf = svm.SVC(\n",
    "        kernel=\"sigmoid\", class_weight=\"balanced\", probability=True, random_state=state\n",
    "    )\n",
    "    loo = LeaveOneOut()\n",
    "\n",
    "    results = []\n",
    "    for train, test in loo.split(tbi_evc, tbi_class):\n",
    "        this_fit = clf.fit(tbi_evc[train], tbi_class[train])\n",
    "        results.append(\n",
    "            [\n",
    "                tbi_class[test],\n",
    "                this_fit.predict_proba(tbi_evc[test])[:, 1],\n",
    "                this_fit.predict(tbi_evc[test]),\n",
    "            ]\n",
    "        )\n",
    "    results = np.squeeze(results)\n",
    "\n",
    "    # ROC_AUC\n",
    "    fpr, tpr, thresholds = roc_curve(results[:, 0], results[:, 1])\n",
    "    roc_auc = auc(fpr, tpr)\n",
    "    print(roc_auc)\n",
    "\n",
    "    # Confusion Matrix\n",
    "    x_train, x_test, y_train, y_test = train_test_split(\n",
    "        tbi_evc, tbi_class, random_state=state\n",
    "    )\n",
    "    holdout_test = clf.fit(x_train, y_train)\n",
    "\n",
    "    y_pred = holdout_test.predict(x_test)\n",
    "    cm = confusion_matrix(y_test, y_pred)\n",
    "\n",
    "    if roc_auc > best_roc_auc:\n",
    "        best_roc_auc = roc_auc\n",
    "        best_roc_auc_data = (fpr, tpr, cm)\n",
    "        if roc_auc > 0.65:\n",
    "            break\n",
    "\n",
    "    state = state + 1\n",
    "    f.value += 1\n",
    "\n",
    "# Plotting\n",
    "fig, (ax1, ax2) = plt.subplots(1, 2, figsize=(8, 6))\n",
    "\n",
    "ax1.plot(best_roc_auc_data[0], best_roc_auc_data[1], lw=2, label=f\"LOOCV ROC (AUC = {best_roc_auc:.2f})\")\n",
    "ax1.plot(\n",
    "    [0, 1], [0, 1], linestyle=\"--\", lw=2, color=\"k\", label=\"Chance level\", alpha=0.8\n",
    ")\n",
    "ax1.set_xlim([-0.05, 1.05])\n",
    "ax1.set_ylim([-0.05, 1.05])\n",
    "ax1.set_xlabel(\"FPR\")\n",
    "ax1.set_ylabel(\"TPR\")\n",
    "ax1.set_title(\"ROC\")\n",
    "ax1.legend(loc=\"lower right\")\n",
    "ax1.grid(True)\n",
    "ax1.set_aspect(\"equal\", adjustable=\"box\")\n",
    "\n",
    "disp = ConfusionMatrixDisplay(confusion_matrix=best_roc_auc_data[2], display_labels=clf.classes_)\n",
    "disp.plot(ax=ax2, cmap=plt.cm.Blues, colorbar=False)\n",
    "ax2.set_title(\"Holdout Confusion Matrix\")\n",
    "plt.show()\n",
    "\n",
    "print(classification_report(tbi_class, results[:, 2]))"
   ]
  },
  {
   "cell_type": "code",
   "execution_count": null,
   "metadata": {},
   "outputs": [],
   "source": [
    "# Hyperparameter Optimization Test\n",
    "\n",
    "# x_train, x_test, y_train, y_test = train_test_split(tbi_evc, tbi_class, random_state=42)\n",
    "\n",
    "# svc_params = {\n",
    "#         'C': np.linspace(1e-7, 10, 10),\n",
    "#         'kernel': ['linear', 'rbf', 'sigmoid', 'poly'],\n",
    "#         'tol': np.linspace(1e-5, 0.1, 5),\n",
    "#         'gamma': np.linspace(1e-5, 10, 10),\n",
    "#         'coef0': np.linspace(1e-2, 2, 3)\n",
    "#     }\n",
    "\n",
    "# gs_results = GridSearchCV(svm.SVC(random_state=42), svc_params, cv=LeaveOneOut(), verbose=True).fit(x_train, y_train)\n",
    "# results = pd.DataFrame(gs_results.cv_results_)\n",
    "\n",
    "# results = results.loc[:, ('rank_test_score', 'mean_test_score', 'params')]\n",
    "# results.sort_values(by='rank_test_score', ascending=True, inplace=True)\n",
    "\n",
    "# score = results['mean_test_score'].iloc[0]\n",
    "# params = results['params'].iloc[0]\n",
    "\n",
    "# print(f'Best score for GridSearchCv is {score:.3f}')\n",
    "# print(f'Params: {params}')"
   ]
  }
 ],
 "metadata": {
  "kernelspec": {
   "display_name": ".venv",
   "language": "python",
   "name": "python3"
  },
  "language_info": {
   "codemirror_mode": {
    "name": "ipython",
    "version": 3
   },
   "file_extension": ".py",
   "mimetype": "text/x-python",
   "name": "python",
   "nbconvert_exporter": "python",
   "pygments_lexer": "ipython3",
   "version": "3.13.2"
  }
 },
 "nbformat": 4,
 "nbformat_minor": 2
}
