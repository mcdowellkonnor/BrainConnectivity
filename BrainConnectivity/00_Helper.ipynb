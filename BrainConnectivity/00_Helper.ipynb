{
 "cells": [
  {
   "cell_type": "markdown",
   "metadata": {},
   "source": [
    "### Convert Feature Numbers to Node Numbers\n"
   ]
  },
  {
   "cell_type": "code",
   "execution_count": null,
   "metadata": {},
   "outputs": [],
   "source": [
    "import numpy as np\n",
    "\n",
    "REMOVED_NODES = [\n",
    "    3,\n",
    "    4,\n",
    "    8,\n",
    "    9,\n",
    "    180,\n",
    "    181,\n",
    "    198,\n",
    "    81,\n",
    "    126,\n",
    "    183,\n",
    "    184,\n",
    "    232,\n",
    "    249,\n",
    "    272,\n",
    "    273,\n",
    "    276,\n",
    "    279,\n",
    "    280,\n",
    "    283,\n",
    "    288,\n",
    "    289,\n",
    "    292,\n",
    "    293,\n",
    "]\n",
    "REMOVED_NODES = np.array(REMOVED_NODES) + 1\n",
    "\n",
    "offset = 0\n",
    "for i in range(0, 271):\n",
    "    print(f\"{i}\\t\", end=\"\")\n",
    "    this_node = i + offset + 1\n",
    "    while this_node in REMOVED_NODES:\n",
    "        this_node += 1\n",
    "        offset += 1\n",
    "    print(this_node)"
   ]
  },
  {
   "cell_type": "code",
   "execution_count": null,
   "metadata": {},
   "outputs": [],
   "source": [
    "\n",
    "\n",
    "# Terrible, terrible expanding function\n",
    "# def get_original_index(index=None):\n",
    "#     removed_indices = [\n",
    "#         3,\n",
    "#         4,\n",
    "#         8,\n",
    "#         9,\n",
    "#         81,\n",
    "#         126,\n",
    "#         180,\n",
    "#         181,\n",
    "#         183,\n",
    "#         184,\n",
    "#         198,\n",
    "#         232,\n",
    "#         249,\n",
    "#         272,\n",
    "#         273,\n",
    "#         276,\n",
    "#         279,\n",
    "#         280,\n",
    "#         283,\n",
    "#         288,\n",
    "#         289,\n",
    "#         292,\n",
    "#         293,\n",
    "#     ]\n",
    "#     numbers = []\n",
    "#     skipped = 0\n",
    "#     for i in range(271):\n",
    "#         next_number = i + skipped + 1\n",
    "#         while next_number in removed_indices:\n",
    "#             next_number += 1\n",
    "#             skipped += 1\n",
    "#         numbers.append(next_number)\n",
    "#         if index:\n",
    "#             if i == index:\n",
    "#                 return next_number\n",
    "#     return numbers\n",
    "\n",
    "\n",
    "# print(get_original_index())"
   ]
  },
  {
   "cell_type": "code",
   "execution_count": null,
   "metadata": {},
   "outputs": [],
   "source": [
    "indices = [80,77,237,244,260,18,39,112,71,178]\n",
    "for index in indices:\n",
    "    print(get_original_index(index))  # Ahh!"
   ]
  },
  {
   "cell_type": "code",
   "execution_count": null,
   "metadata": {},
   "outputs": [],
   "source": [
    "import numpy as np\n",
    "arr = np.ones(12, dtype=bool)\n",
    "arr[[0, 2, 4]] = False\n",
    "print(arr)"
   ]
  },
  {
   "cell_type": "code",
   "execution_count": null,
   "metadata": {},
   "outputs": [],
   "source": []
  }
 ],
 "metadata": {
  "kernelspec": {
   "display_name": ".venv",
   "language": "python",
   "name": "python3"
  },
  "language_info": {
   "codemirror_mode": {
    "name": "ipython",
    "version": 3
   },
   "file_extension": ".py",
   "mimetype": "text/x-python",
   "name": "python",
   "nbconvert_exporter": "python",
   "pygments_lexer": "ipython3",
   "version": "3.13.2"
  }
 },
 "nbformat": 4,
 "nbformat_minor": 2
}
