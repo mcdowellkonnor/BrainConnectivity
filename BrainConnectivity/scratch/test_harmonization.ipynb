{
 "cells": [
  {
   "cell_type": "markdown",
   "id": "e299ab83",
   "metadata": {},
   "source": [
    "## Test Harmonization\n",
    "\n",
    "The purpose of this notebook is to assert that harmonization is being performed as expected. Specifically, we will compare the outputs of both neurocombat (Python) and the existing R-based harmonization approach to determine equivalence. We will also try to visualize as much as possible regarding the harmonization, for sanity's sake.\n"
   ]
  },
  {
   "cell_type": "code",
   "execution_count": 1,
   "id": "db8957d4",
   "metadata": {},
   "outputs": [],
   "source": [
    "from neuroCombat import neuroCombat\n",
    "import pandas as pd\n",
    "import numpy as np"
   ]
  }
 ],
 "metadata": {
  "kernelspec": {
   "display_name": ".venv",
   "language": "python",
   "name": "python3"
  },
  "language_info": {
   "codemirror_mode": {
    "name": "ipython",
    "version": 3
   },
   "file_extension": ".py",
   "mimetype": "text/x-python",
   "name": "python",
   "nbconvert_exporter": "python",
   "pygments_lexer": "ipython3",
   "version": "3.13.2"
  }
 },
 "nbformat": 4,
 "nbformat_minor": 5
}
